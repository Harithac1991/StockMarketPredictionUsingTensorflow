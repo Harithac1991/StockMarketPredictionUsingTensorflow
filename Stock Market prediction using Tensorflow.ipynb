{
 "cells": [
  {
   "cell_type": "markdown",
   "metadata": {},
   "source": [
    "# Stock market prediction using Tensorflow"
   ]
  },
  {
   "cell_type": "markdown",
   "metadata": {},
   "source": [
    "-Dataset from  Google finance API for S&P 500 comapanies- stockmarcket tick data"
   ]
  },
  {
   "cell_type": "markdown",
   "metadata": {},
   "source": [
    "http://files.statworx.com/sp500.zip"
   ]
  },
  {
   "cell_type": "markdown",
   "metadata": {},
   "source": [
    "The dataset contains n = 41266 minutes of data ranging from April to August 2017 on 500 stocks as well as the total S&P 500 index price"
   ]
  },
  {
   "cell_type": "code",
   "execution_count": 2,
   "metadata": {},
   "outputs": [],
   "source": [
    "import pandas as pd"
   ]
  },
  {
   "cell_type": "code",
   "execution_count": 3,
   "metadata": {},
   "outputs": [],
   "source": [
    "data = pd.read_csv(\"./sp500/data_stocks.csv\")"
   ]
  },
  {
   "cell_type": "markdown",
   "metadata": {},
   "source": [
    "Date variable is not useful for our analysis. So drop it !"
   ]
  },
  {
   "cell_type": "code",
   "execution_count": 4,
   "metadata": {},
   "outputs": [],
   "source": [
    "data = data.drop(\"DATE\",1)\n"
   ]
  },
  {
   "cell_type": "markdown",
   "metadata": {},
   "source": [
    "Let's do some EDA"
   ]
  },
  {
   "cell_type": "code",
   "execution_count": 5,
   "metadata": {},
   "outputs": [
    {
     "data": {
      "text/plain": [
       "(41266, 501)"
      ]
     },
     "execution_count": 5,
     "metadata": {},
     "output_type": "execute_result"
    }
   ],
   "source": [
    "data.shape"
   ]
  },
  {
   "cell_type": "code",
   "execution_count": 6,
   "metadata": {},
   "outputs": [
    {
     "data": {
      "text/plain": [
       "SP500           0\n",
       "NASDAQ.AAL      0\n",
       "NASDAQ.AAPL     0\n",
       "NASDAQ.ADBE     0\n",
       "NASDAQ.ADI      0\n",
       "NASDAQ.ADP      0\n",
       "NASDAQ.ADSK     0\n",
       "NASDAQ.AKAM     0\n",
       "NASDAQ.ALXN     0\n",
       "NASDAQ.AMAT     0\n",
       "NASDAQ.AMD      0\n",
       "NASDAQ.AMGN     0\n",
       "NASDAQ.AMZN     0\n",
       "NASDAQ.ATVI     0\n",
       "NASDAQ.AVGO     0\n",
       "NASDAQ.BBBY     0\n",
       "NASDAQ.BIIB     0\n",
       "NASDAQ.CA       0\n",
       "NASDAQ.CBOE     0\n",
       "NASDAQ.CELG     0\n",
       "NASDAQ.CERN     0\n",
       "NASDAQ.CHRW     0\n",
       "NASDAQ.CHTR     0\n",
       "NASDAQ.CINF     0\n",
       "NASDAQ.CMCSA    0\n",
       "NASDAQ.CME      0\n",
       "NASDAQ.COST     0\n",
       "NASDAQ.CSCO     0\n",
       "NASDAQ.CSX      0\n",
       "NASDAQ.CTAS     0\n",
       "               ..\n",
       "NYSE.USB        0\n",
       "NYSE.UTX        0\n",
       "NYSE.V          0\n",
       "NYSE.VAR        0\n",
       "NYSE.VFC        0\n",
       "NYSE.VLO        0\n",
       "NYSE.VMC        0\n",
       "NYSE.VNO        0\n",
       "NYSE.VTR        0\n",
       "NYSE.VZ         0\n",
       "NYSE.WAT        0\n",
       "NYSE.WEC        0\n",
       "NYSE.WFC        0\n",
       "NYSE.WHR        0\n",
       "NYSE.WM         0\n",
       "NYSE.WMB        0\n",
       "NYSE.WMT        0\n",
       "NYSE.WRK        0\n",
       "NYSE.WU         0\n",
       "NYSE.WY         0\n",
       "NYSE.WYN        0\n",
       "NYSE.XEC        0\n",
       "NYSE.XEL        0\n",
       "NYSE.XL         0\n",
       "NYSE.XOM        0\n",
       "NYSE.XRX        0\n",
       "NYSE.XYL        0\n",
       "NYSE.YUM        0\n",
       "NYSE.ZBH        0\n",
       "NYSE.ZTS        0\n",
       "Length: 501, dtype: int64"
      ]
     },
     "execution_count": 6,
     "metadata": {},
     "output_type": "execute_result"
    }
   ],
   "source": [
    "data.isnull().sum()"
   ]
  },
  {
   "cell_type": "markdown",
   "metadata": {},
   "source": [
    "No null values! all good."
   ]
  },
  {
   "cell_type": "code",
   "execution_count": 7,
   "metadata": {},
   "outputs": [
    {
     "data": {
      "text/plain": [
       "<Figure size 640x480 with 1 Axes>"
      ]
     },
     "metadata": {},
     "output_type": "display_data"
    }
   ],
   "source": [
    "from matplotlib import pyplot as plt\n",
    "plt.plot(data['SP500'])\n",
    "plt.xlabel(\"index\")\n",
    "plt.ylabel(\"time series data \")\n",
    "plt.title (\"S&P 500 time series index data\")\n",
    "plt.show()"
   ]
  },
  {
   "cell_type": "markdown",
   "metadata": {},
   "source": [
    "- Please keep in mind that the values you see are 1 minute shifter to future, already !\n",
    "- This process is already done on the dataset and is necessory to do so inorder to predict the future market-status.\n",
    "- Each row in the dataset contains the price of the S&P500 at t+1 and the constituent’s prices at T=t"
   ]
  },
  {
   "cell_type": "markdown",
   "metadata": {},
   "source": [
    "######  train test split 80 -20"
   ]
  },
  {
   "cell_type": "code",
   "execution_count": 8,
   "metadata": {},
   "outputs": [],
   "source": [
    "import  numpy as np\n",
    "n = data.shape[0]\n",
    "train_data_start = 0\n",
    "train_data_ending = int(np.floor(0.8 * n))\n",
    "\n",
    "test_data_start = train_data_ending\n",
    "test_data_end = n"
   ]
  },
  {
   "cell_type": "code",
   "execution_count": 9,
   "metadata": {},
   "outputs": [],
   "source": [
    "data_train = data.iloc[train_data_start : train_data_ending]\n",
    "data_test = data.iloc[test_data_start : test_data_end]"
   ]
  },
  {
   "cell_type": "markdown",
   "metadata": {},
   "source": [
    "scaling of input data is required to help the network to reach optimization faster and easier"
   ]
  },
  {
   "cell_type": "code",
   "execution_count": 10,
   "metadata": {},
   "outputs": [],
   "source": [
    "from sklearn.preprocessing import MinMaxScaler\n",
    "scaler = MinMaxScaler()\n",
    "data_train = scaler.fit_transform(data_train)\n",
    "data_test = scaler.fit_transform(data_test)"
   ]
  },
  {
   "cell_type": "markdown",
   "metadata": {},
   "source": [
    "Make sure you scale train and test data seperately (as mentioned in above code)"
   ]
  },
  {
   "cell_type": "code",
   "execution_count": 11,
   "metadata": {},
   "outputs": [],
   "source": [
    "# label column is SP500 - 0th column\n",
    "X_train = data_train[:,1:]\n",
    "X_test = data_test[:,1:]\n",
    "\n",
    "Y_train = data_train[:,0]\n",
    "Y_test = data_test[:,0]\n"
   ]
  },
  {
   "cell_type": "markdown",
   "metadata": {},
   "source": [
    "#### Tensorflow \n"
   ]
  },
  {
   "cell_type": "markdown",
   "metadata": {},
   "source": [
    "As we are not using keras library, networks have to be build from scratch.\n",
    "\n",
    "\n",
    "First, we define abstract representation of the model (neural network) through placeholders and variables.\n",
    "Afterwards, the placeholders get \"filled\" with real data and the actual computations take place"
   ]
  },
  {
   "cell_type": "markdown",
   "metadata": {},
   "source": [
    "###### This is a snippet of code to demostrate a basic TF graph (not part of the work)\n",
    "\n",
    "\n"
   ]
  },
  {
   "cell_type": "code",
   "execution_count": 12,
   "metadata": {},
   "outputs": [
    {
     "data": {
      "text/plain": [
       "9"
      ]
     },
     "execution_count": 12,
     "metadata": {},
     "output_type": "execute_result"
    }
   ],
   "source": [
    "# ----Code starts------\n",
    "import tensorflow as tf\n",
    "a = tf.placeholder(dtype=tf.int8)\n",
    "b = tf.placeholder(dtype=tf.int8)\n",
    "\n",
    "# define the functionality of a node\n",
    "c = tf.add(a,b)\n",
    "\n",
    "# initialize the graph\n",
    "graph = tf.Session()\n",
    "\n",
    "# execute the grapgh\n",
    "graph.run(fetches=c,feed_dict={a:5,b:4})\n",
    "#----Code Ends`----"
   ]
  },
  {
   "cell_type": "code",
   "execution_count": 13,
   "metadata": {},
   "outputs": [
    {
     "data": {
      "text/plain": [
       "500"
      ]
     },
     "execution_count": 13,
     "metadata": {},
     "output_type": "execute_result"
    }
   ],
   "source": [
    "X_train.shape[1]"
   ]
  },
  {
   "cell_type": "markdown",
   "metadata": {},
   "source": [
    "Now, back to our networks:\n",
    "- input X = stock prices of all S&P 500 constituents at time T = t\n",
    "- output Y = the index value of the S&P 500 at time T = t + 1\n",
    "\n",
    "> - input dimension : [None, n_stocks] and \n",
    "> - output dimension : [None]\n",
    "\n",
    "None indicates the batch size "
   ]
  },
  {
   "cell_type": "code",
   "execution_count": 14,
   "metadata": {},
   "outputs": [],
   "source": [
    "import tensorflow as tf\n",
    "n_stocks = X_train.shape[1]\n",
    "X = tf.placeholder(dtype=tf.float32,shape=[None,n_stocks]) # n_stocks is 500\n",
    "Y = tf.placeholder(dtype=tf.float32,shape=[None])"
   ]
  },
  {
   "cell_type": "markdown",
   "metadata": {},
   "source": [
    "###### Model architecture\n",
    "\n"
   ]
  },
  {
   "cell_type": "code",
   "execution_count": 15,
   "metadata": {},
   "outputs": [],
   "source": [
    "n_stocks = 500\n",
    "n_neurons_1 = 1024\n",
    "n_neurons_2 = 512\n",
    "n_neurons_3 = 256\n",
    "n_neurons_4 = 128  # Reduction in layer size means we compress the info\n",
    "n_target = 1\n",
    "\n"
   ]
  },
  {
   "cell_type": "markdown",
   "metadata": {},
   "source": [
    "######  initializers would give starting parameters for cost optimization process"
   ]
  },
  {
   "cell_type": "code",
   "execution_count": 16,
   "metadata": {},
   "outputs": [],
   "source": [
    "# Support functions to initialize weights and bias\n",
    "\n",
    "sigma = 1\n",
    "weight_initializer = tf.variance_scaling_initializer(mode=\"fan_avg\",distribution=\"Uniform\",scale=sigma) #in most cases, a unified initialization is sufficient\n",
    "bias_initializer = tf.zeros_initializer()"
   ]
  },
  {
   "cell_type": "code",
   "execution_count": 17,
   "metadata": {},
   "outputs": [],
   "source": [
    "#layer 1\n",
    "\n",
    "W_hidden_1 = tf.Variable(weight_initializer([n_stocks,n_neurons_1]))\n",
    "bias_hidden_1 = tf.Variable(bias_initializer([n_neurons_1]))\n",
    "\n",
    "#layer 2\n",
    "\n",
    "W_hidden_2 = tf.Variable(weight_initializer([n_neurons_1,n_neurons_2]))\n",
    "bias_hidden_2 = tf.Variable(bias_initializer([n_neurons_2]))\n",
    "\n",
    "#layer 3\n",
    "\n",
    "W_hidden_3 = tf.Variable(weight_initializer([n_neurons_2,n_neurons_3]))\n",
    "bias_hidden_3 = tf.Variable(bias_initializer([n_neurons_3]))\n",
    "\n",
    "#layer 4\n",
    "\n",
    "W_hidden_4 = tf.Variable(weight_initializer([n_neurons_3,n_neurons_4]))\n",
    "bias_hidden_4 = tf.Variable(bias_initializer([n_neurons_4]))"
   ]
  },
  {
   "cell_type": "markdown",
   "metadata": {},
   "source": [
    "note the MxN and NxT dimensions of layers\n",
    "\n",
    "\n",
    "\n",
    "\n",
    "The second dimension of the previous layer is the first dimension in the current layer for weight matrices"
   ]
  },
  {
   "cell_type": "code",
   "execution_count": 18,
   "metadata": {},
   "outputs": [],
   "source": [
    "# Output layer\n",
    "\n",
    "W_out = tf.Variable(weight_initializer([n_neurons_4,n_target]))\n",
    "bias_out  = tf.Variable(bias_initializer([n_target]))"
   ]
  },
  {
   "cell_type": "markdown",
   "metadata": {},
   "source": [
    "###### Next step is to combine\n",
    ">placeholders (data) and variables (weighs and biases)\n",
    "\n",
    "\n",
    "Hidden layers are transformed using activation function ReLU(Rectified Linear Unit)"
   ]
  },
  {
   "cell_type": "code",
   "execution_count": 30,
   "metadata": {},
   "outputs": [],
   "source": [
    "# Hidden layers\n",
    "hidden_1 = tf.nn.relu(tf.add(tf.matmul(X,W_hidden_1), bias_hidden_1))\n",
    "hidden_2 = tf.nn.relu(tf.add(tf.matmul(hidden_1,W_hidden_2), bias_hidden_2))\n",
    "hidden_3 = tf.nn.relu(tf.add(tf.matmul(hidden_2,W_hidden_3), bias_hidden_3))\n",
    "hidden_4 = tf.nn.relu(tf.add(tf.matmul(hidden_3,W_hidden_4), bias_hidden_4))\n",
    "\n",
    "#Ouput Layer\n",
    "# out = tf.nn.relu(tf.add(tf.matmul(hidden_4,W_out), bias_out)) Not giving better MSE after training\n",
    "out = tf.transpose(tf.add(tf.matmul(hidden_4, W_out), bias_out))"
   ]
  },
  {
   "cell_type": "markdown",
   "metadata": {},
   "source": [
    "###### Define Cost function\n",
    "> MSE is the commonly used CF\n",
    "\n",
    "> any differentiable function can be implemented in order to compute a deviation measure between predictions and targets\n",
    "\n",
    "> MSE exhibits certain properties that are advantageous for the general optimization problem to be solved"
   ]
  },
  {
   "cell_type": "code",
   "execution_count": 31,
   "metadata": {},
   "outputs": [],
   "source": [
    "# Cost Function\n",
    "\n",
    "mse = tf.reduce_mean(tf.squared_difference(out, Y))"
   ]
  },
  {
   "cell_type": "markdown",
   "metadata": {},
   "source": [
    "###### Define Optimizer \n",
    "\n",
    "> Helps to adapt the network’s weight and bias variables during training"
   ]
  },
  {
   "cell_type": "code",
   "execution_count": 32,
   "metadata": {},
   "outputs": [],
   "source": [
    "opt = tf.train.AdamOptimizer().minimize(mse)"
   ]
  },
  {
   "cell_type": "markdown",
   "metadata": {},
   "source": [
    "#### Train the network "
   ]
  },
  {
   "cell_type": "markdown",
   "metadata": {},
   "source": [
    "- data samples of n = batch_size are drawn from the training data and fed into the network"
   ]
  },
  {
   "cell_type": "code",
   "execution_count": null,
   "metadata": {},
   "outputs": [
    {
     "data": {
      "image/png": "[encoded data removed]",
      "text/plain": [
       "<Figure size 432x288 with 1 Axes>"
      ]
     },
     "metadata": {
      "needs_background": "light"
     },
     "output_type": "display_data"
    },
    {
     "data": {
      "image/png": "[encoded data removed]",
      "text/plain": [
       "<Figure size 432x288 with 1 Axes>"
      ]
     },
     "metadata": {
      "needs_background": "light"
     },
     "output_type": "display_data"
    },
    {
     "data": {
      "image/png": "[encoded data removed]",
      "text/plain": [
       "<Figure size 432x288 with 1 Axes>"
      ]
     },
     "metadata": {
      "needs_background": "light"
     },
     "output_type": "display_data"
    },
    {
     "data": {
      "image/png": "[encoded data removed]",
      "text/plain": [
       "<Figure size 432x288 with 1 Axes>"
      ]
     },
     "metadata": {
      "needs_background": "light"
     },
     "output_type": "display_data"
    }
   ],
   "source": [
    "\n",
    "# Define TF session\n",
    "net = tf.InteractiveSession()\n",
    "net.run(tf.global_variables_initializer())\n",
    "\n",
    "plt.ion()\n",
    "fig = plt.figure()\n",
    "ax1 = fig.add_subplot(111)\n",
    "line1,= ax1.plot(Y_test)\n",
    "line2,= ax1.plot(Y_test*0.5)\n",
    "plt.show()\n",
    "\n",
    "epochs = 10\n",
    "batch_size = 256\n",
    "mse_train = []\n",
    "mse_test = []\n",
    "\n",
    "# X = tf.placeholder(dtype=tf.float32,shape=[batch_size,n_stocks]) # n_stocks is 500\n",
    "# Y = tf.placeholder(dtype=tf.float32,shape=[batch_size])\n",
    "\n",
    "for e in range (epochs):\n",
    "    # data shuffle\n",
    "    shuffle_indices = np.random.permutation(np.arange(len(Y_test)))\n",
    "    X_train = X_train[shuffle_indices]\n",
    "    Y_train = Y_train[shuffle_indices]\n",
    "    \n",
    "    \n",
    "    #batch training \n",
    "    for i in range(0, len(Y_train)//batch_size):\n",
    "        start = i * batch_size\n",
    "        batch_x = X_train[start:start + batch_size]\n",
    "        batch_y = Y_train[start:start + batch_size]\n",
    "\n",
    "        # Run the model\n",
    "        net.run(fetches = opt ,feed_dict={X:batch_x,Y:batch_y})\n",
    "#         print(net.run(fetches = mse ,feed_dict={X:batch_x,Y:batch_y}))\n",
    "        # see the progress at every 5th batch\n",
    "        if np.mod(i,50)==0 :\n",
    "            \n",
    "            mse_train.append(net.run(mse, feed_dict={X: X_train, Y: Y_train}))\n",
    "            mse_test.append(net.run(mse, feed_dict={X: X_test, Y: Y_test}))\n",
    "            pred = net.run(out,feed_dict={X:X_test})\n",
    "#             print('MSE Train: ', mse_train[-1])\n",
    "#             print('MSE Test: ', mse_test[-1])\n",
    "            line2.set_ydata(pred)\n",
    "            plt.title(\"Epoch \" +str(e)+ \" , Batch \"+str(i))\n",
    "            file_name = 'img/epoch_' + str(e) + '_batch_' + str(i) + '.pdf'\n",
    "            plt.savefig(file_name)\n",
    "            plt.pause(0.01)\n",
    "            \n",
    "#mse after training\n",
    "final_mse = net.run(mse,feed_dict={X:X_test,Y:Y_test})\n",
    "print(final_mse)"
   ]
  },
  {
   "cell_type": "code",
   "execution_count": 36,
   "metadata": {},
   "outputs": [
    {
     "name": "stdout",
     "output_type": "stream",
     "text": [
      "0.012620197\n"
     ]
    }
   ],
   "source": [
    "final_mse = net.run(mse,feed_dict={X:X_test,Y:Y_test})\n",
    "print(final_mse)"
   ]
  },
  {
   "cell_type": "code",
   "execution_count": 37,
   "metadata": {},
   "outputs": [],
   "source": [
    "# import sys\n",
    "# print (sys.path)\n",
    "\n",
    "# import sys\n",
    "# site_packages = next(p for p in sys.path if 'site-packages' in p)\n",
    "# print (site_packages)"
   ]
  }
 ],
 "metadata": {
  "kernelspec": {
   "display_name": "py36_tf",
   "language": "python",
   "name": "py36_tf"
  },
  "language_info": {
   "codemirror_mode": {
    "name": "ipython",
    "version": 3
   },
   "file_extension": ".py",
   "mimetype": "text/x-python",
   "name": "python",
   "nbconvert_exporter": "python",
   "pygments_lexer": "ipython3",
   "version": "3.6.6"
  }
 },
 "nbformat": 4,
 "nbformat_minor": 2
}
